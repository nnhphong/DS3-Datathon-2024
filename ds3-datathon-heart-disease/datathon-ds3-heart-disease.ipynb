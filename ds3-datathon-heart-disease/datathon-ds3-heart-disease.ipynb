{
 "cells": [
  {
   "cell_type": "code",
   "execution_count": 1,
   "id": "26b1a46e",
   "metadata": {
    "_cell_guid": "b1076dfc-b9ad-4769-8c92-a6c4dae69d19",
    "_uuid": "8f2839f25d086af736a60e9eeb907d3b93b6e0e5",
    "execution": {
     "iopub.execute_input": "2024-06-16T13:54:27.780683Z",
     "iopub.status.busy": "2024-06-16T13:54:27.780286Z",
     "iopub.status.idle": "2024-06-16T13:54:29.678472Z",
     "shell.execute_reply": "2024-06-16T13:54:29.677404Z"
    },
    "papermill": {
     "duration": 1.907805,
     "end_time": "2024-06-16T13:54:29.681103",
     "exception": false,
     "start_time": "2024-06-16T13:54:27.773298",
     "status": "completed"
    },
    "tags": []
   },
   "outputs": [
    {
     "name": "stdout",
     "output_type": "stream",
     "text": [
      "/kaggle/input/heartdisease/heart_test.csv\n",
      "/kaggle/input/heartdisease/heart_train.csv\n",
      "/kaggle/input/heartdisease/heart_sample_submission.csv\n"
     ]
    }
   ],
   "source": [
    "import numpy as np \n",
    "import pandas as pd \n",
    "from sklearn.model_selection import train_test_split\n",
    "import os\n",
    "for dirname, _, filenames in os.walk('/kaggle/input'):\n",
    "    for filename in filenames:\n",
    "        print(os.path.join(dirname, filename))"
   ]
  },
  {
   "cell_type": "markdown",
   "id": "7e1894ed",
   "metadata": {
    "papermill": {
     "duration": 0.004609,
     "end_time": "2024-06-16T13:54:29.690992",
     "exception": false,
     "start_time": "2024-06-16T13:54:29.686383",
     "status": "completed"
    },
    "tags": []
   },
   "source": [
    "# 1. Read data from csv files"
   ]
  },
  {
   "cell_type": "code",
   "execution_count": 2,
   "id": "e5782cd2",
   "metadata": {
    "execution": {
     "iopub.execute_input": "2024-06-16T13:54:29.702916Z",
     "iopub.status.busy": "2024-06-16T13:54:29.701863Z",
     "iopub.status.idle": "2024-06-16T13:54:29.744290Z",
     "shell.execute_reply": "2024-06-16T13:54:29.743467Z"
    },
    "papermill": {
     "duration": 0.050762,
     "end_time": "2024-06-16T13:54:29.746662",
     "exception": false,
     "start_time": "2024-06-16T13:54:29.695900",
     "status": "completed"
    },
    "tags": []
   },
   "outputs": [],
   "source": [
    "# Read the data\n",
    "X_full = pd.read_csv('/kaggle/input/heartdisease/heart_train.csv', index_col='id')\n",
    "X_test = pd.read_csv('/kaggle/input/heartdisease/heart_test.csv', index_col='id')\n",
    "\n",
    "X_full.dropna(axis=0, subset=['HeartDisease'], inplace=True)\n",
    "y = X_full['HeartDisease']\n",
    "X_full.drop(labels=['HeartDisease'], axis=1, inplace=True)"
   ]
  },
  {
   "cell_type": "markdown",
   "id": "f154fb4b",
   "metadata": {
    "papermill": {
     "duration": 0.004598,
     "end_time": "2024-06-16T13:54:29.756348",
     "exception": false,
     "start_time": "2024-06-16T13:54:29.751750",
     "status": "completed"
    },
    "tags": []
   },
   "source": [
    "# 2. Examine data\n",
    "Take an overview of what is the data look like"
   ]
  },
  {
   "cell_type": "code",
   "execution_count": 3,
   "id": "8f08f9a7",
   "metadata": {
    "execution": {
     "iopub.execute_input": "2024-06-16T13:54:29.768019Z",
     "iopub.status.busy": "2024-06-16T13:54:29.767291Z",
     "iopub.status.idle": "2024-06-16T13:54:29.790759Z",
     "shell.execute_reply": "2024-06-16T13:54:29.789801Z"
    },
    "papermill": {
     "duration": 0.031628,
     "end_time": "2024-06-16T13:54:29.792941",
     "exception": false,
     "start_time": "2024-06-16T13:54:29.761313",
     "status": "completed"
    },
    "tags": []
   },
   "outputs": [
    {
     "data": {
      "text/html": [
       "<div>\n",
       "<style scoped>\n",
       "    .dataframe tbody tr th:only-of-type {\n",
       "        vertical-align: middle;\n",
       "    }\n",
       "\n",
       "    .dataframe tbody tr th {\n",
       "        vertical-align: top;\n",
       "    }\n",
       "\n",
       "    .dataframe thead th {\n",
       "        text-align: right;\n",
       "    }\n",
       "</style>\n",
       "<table border=\"1\" class=\"dataframe\">\n",
       "  <thead>\n",
       "    <tr style=\"text-align: right;\">\n",
       "      <th></th>\n",
       "      <th>Unnamed: 0</th>\n",
       "      <th>Age</th>\n",
       "      <th>Sex</th>\n",
       "      <th>ChestPainType</th>\n",
       "      <th>RestingBP</th>\n",
       "      <th>Cholesterol</th>\n",
       "      <th>FastingBS</th>\n",
       "      <th>RestingECG</th>\n",
       "      <th>MaxHR</th>\n",
       "      <th>ExerciseAngina</th>\n",
       "      <th>Oldpeak</th>\n",
       "      <th>ST_Slope</th>\n",
       "    </tr>\n",
       "    <tr>\n",
       "      <th>id</th>\n",
       "      <th></th>\n",
       "      <th></th>\n",
       "      <th></th>\n",
       "      <th></th>\n",
       "      <th></th>\n",
       "      <th></th>\n",
       "      <th></th>\n",
       "      <th></th>\n",
       "      <th></th>\n",
       "      <th></th>\n",
       "      <th></th>\n",
       "      <th></th>\n",
       "    </tr>\n",
       "  </thead>\n",
       "  <tbody>\n",
       "    <tr>\n",
       "      <th>0</th>\n",
       "      <td>0</td>\n",
       "      <td>40</td>\n",
       "      <td>M</td>\n",
       "      <td>ATA</td>\n",
       "      <td>140</td>\n",
       "      <td>289</td>\n",
       "      <td>0</td>\n",
       "      <td>Normal</td>\n",
       "      <td>172</td>\n",
       "      <td>N</td>\n",
       "      <td>0.0</td>\n",
       "      <td>Up</td>\n",
       "    </tr>\n",
       "    <tr>\n",
       "      <th>1</th>\n",
       "      <td>1</td>\n",
       "      <td>49</td>\n",
       "      <td>F</td>\n",
       "      <td>NAP</td>\n",
       "      <td>160</td>\n",
       "      <td>180</td>\n",
       "      <td>0</td>\n",
       "      <td>Normal</td>\n",
       "      <td>156</td>\n",
       "      <td>N</td>\n",
       "      <td>1.0</td>\n",
       "      <td>Flat</td>\n",
       "    </tr>\n",
       "    <tr>\n",
       "      <th>2</th>\n",
       "      <td>2</td>\n",
       "      <td>37</td>\n",
       "      <td>M</td>\n",
       "      <td>ATA</td>\n",
       "      <td>130</td>\n",
       "      <td>283</td>\n",
       "      <td>0</td>\n",
       "      <td>ST</td>\n",
       "      <td>98</td>\n",
       "      <td>N</td>\n",
       "      <td>0.0</td>\n",
       "      <td>Up</td>\n",
       "    </tr>\n",
       "    <tr>\n",
       "      <th>3</th>\n",
       "      <td>3</td>\n",
       "      <td>48</td>\n",
       "      <td>F</td>\n",
       "      <td>ASY</td>\n",
       "      <td>138</td>\n",
       "      <td>214</td>\n",
       "      <td>0</td>\n",
       "      <td>Normal</td>\n",
       "      <td>108</td>\n",
       "      <td>Y</td>\n",
       "      <td>1.5</td>\n",
       "      <td>Flat</td>\n",
       "    </tr>\n",
       "    <tr>\n",
       "      <th>4</th>\n",
       "      <td>4</td>\n",
       "      <td>39</td>\n",
       "      <td>M</td>\n",
       "      <td>NAP</td>\n",
       "      <td>120</td>\n",
       "      <td>339</td>\n",
       "      <td>0</td>\n",
       "      <td>Normal</td>\n",
       "      <td>170</td>\n",
       "      <td>N</td>\n",
       "      <td>0.0</td>\n",
       "      <td>Up</td>\n",
       "    </tr>\n",
       "    <tr>\n",
       "      <th>...</th>\n",
       "      <td>...</td>\n",
       "      <td>...</td>\n",
       "      <td>...</td>\n",
       "      <td>...</td>\n",
       "      <td>...</td>\n",
       "      <td>...</td>\n",
       "      <td>...</td>\n",
       "      <td>...</td>\n",
       "      <td>...</td>\n",
       "      <td>...</td>\n",
       "      <td>...</td>\n",
       "      <td>...</td>\n",
       "    </tr>\n",
       "    <tr>\n",
       "      <th>638</th>\n",
       "      <td>638</td>\n",
       "      <td>45</td>\n",
       "      <td>M</td>\n",
       "      <td>TA</td>\n",
       "      <td>110</td>\n",
       "      <td>264</td>\n",
       "      <td>0</td>\n",
       "      <td>Normal</td>\n",
       "      <td>132</td>\n",
       "      <td>N</td>\n",
       "      <td>1.2</td>\n",
       "      <td>Flat</td>\n",
       "    </tr>\n",
       "    <tr>\n",
       "      <th>639</th>\n",
       "      <td>639</td>\n",
       "      <td>68</td>\n",
       "      <td>M</td>\n",
       "      <td>ASY</td>\n",
       "      <td>144</td>\n",
       "      <td>193</td>\n",
       "      <td>1</td>\n",
       "      <td>Normal</td>\n",
       "      <td>141</td>\n",
       "      <td>N</td>\n",
       "      <td>3.4</td>\n",
       "      <td>Flat</td>\n",
       "    </tr>\n",
       "    <tr>\n",
       "      <th>640</th>\n",
       "      <td>640</td>\n",
       "      <td>57</td>\n",
       "      <td>M</td>\n",
       "      <td>ASY</td>\n",
       "      <td>130</td>\n",
       "      <td>131</td>\n",
       "      <td>0</td>\n",
       "      <td>Normal</td>\n",
       "      <td>115</td>\n",
       "      <td>Y</td>\n",
       "      <td>1.2</td>\n",
       "      <td>Flat</td>\n",
       "    </tr>\n",
       "    <tr>\n",
       "      <th>641</th>\n",
       "      <td>641</td>\n",
       "      <td>57</td>\n",
       "      <td>F</td>\n",
       "      <td>ATA</td>\n",
       "      <td>130</td>\n",
       "      <td>236</td>\n",
       "      <td>0</td>\n",
       "      <td>LVH</td>\n",
       "      <td>174</td>\n",
       "      <td>N</td>\n",
       "      <td>0.0</td>\n",
       "      <td>Flat</td>\n",
       "    </tr>\n",
       "    <tr>\n",
       "      <th>642</th>\n",
       "      <td>642</td>\n",
       "      <td>38</td>\n",
       "      <td>M</td>\n",
       "      <td>NAP</td>\n",
       "      <td>138</td>\n",
       "      <td>175</td>\n",
       "      <td>0</td>\n",
       "      <td>Normal</td>\n",
       "      <td>173</td>\n",
       "      <td>N</td>\n",
       "      <td>0.0</td>\n",
       "      <td>Up</td>\n",
       "    </tr>\n",
       "  </tbody>\n",
       "</table>\n",
       "<p>643 rows × 12 columns</p>\n",
       "</div>"
      ],
      "text/plain": [
       "     Unnamed: 0  Age Sex ChestPainType  RestingBP  Cholesterol  FastingBS  \\\n",
       "id                                                                          \n",
       "0             0   40   M           ATA        140          289          0   \n",
       "1             1   49   F           NAP        160          180          0   \n",
       "2             2   37   M           ATA        130          283          0   \n",
       "3             3   48   F           ASY        138          214          0   \n",
       "4             4   39   M           NAP        120          339          0   \n",
       "..          ...  ...  ..           ...        ...          ...        ...   \n",
       "638         638   45   M            TA        110          264          0   \n",
       "639         639   68   M           ASY        144          193          1   \n",
       "640         640   57   M           ASY        130          131          0   \n",
       "641         641   57   F           ATA        130          236          0   \n",
       "642         642   38   M           NAP        138          175          0   \n",
       "\n",
       "    RestingECG  MaxHR ExerciseAngina  Oldpeak ST_Slope  \n",
       "id                                                      \n",
       "0       Normal    172              N      0.0       Up  \n",
       "1       Normal    156              N      1.0     Flat  \n",
       "2           ST     98              N      0.0       Up  \n",
       "3       Normal    108              Y      1.5     Flat  \n",
       "4       Normal    170              N      0.0       Up  \n",
       "..         ...    ...            ...      ...      ...  \n",
       "638     Normal    132              N      1.2     Flat  \n",
       "639     Normal    141              N      3.4     Flat  \n",
       "640     Normal    115              Y      1.2     Flat  \n",
       "641        LVH    174              N      0.0     Flat  \n",
       "642     Normal    173              N      0.0       Up  \n",
       "\n",
       "[643 rows x 12 columns]"
      ]
     },
     "execution_count": 3,
     "metadata": {},
     "output_type": "execute_result"
    }
   ],
   "source": [
    "X_full"
   ]
  },
  {
   "cell_type": "markdown",
   "id": "0897953e",
   "metadata": {
    "papermill": {
     "duration": 0.005146,
     "end_time": "2024-06-16T13:54:29.803273",
     "exception": false,
     "start_time": "2024-06-16T13:54:29.798127",
     "status": "completed"
    },
    "tags": []
   },
   "source": [
    "# 3. Data cleaning & Features engineering\n",
    "Separating features of object type and numerical type in order to prepare for encoding or process any missing value. Also, splitting the test data and validation data for further analysis."
   ]
  },
  {
   "cell_type": "code",
   "execution_count": 4,
   "id": "c7ad2341",
   "metadata": {
    "execution": {
     "iopub.execute_input": "2024-06-16T13:54:29.815219Z",
     "iopub.status.busy": "2024-06-16T13:54:29.814861Z",
     "iopub.status.idle": "2024-06-16T13:54:29.843682Z",
     "shell.execute_reply": "2024-06-16T13:54:29.842668Z"
    },
    "papermill": {
     "duration": 0.037172,
     "end_time": "2024-06-16T13:54:29.845853",
     "exception": false,
     "start_time": "2024-06-16T13:54:29.808681",
     "status": "completed"
    },
    "tags": []
   },
   "outputs": [
    {
     "data": {
      "text/html": [
       "<div>\n",
       "<style scoped>\n",
       "    .dataframe tbody tr th:only-of-type {\n",
       "        vertical-align: middle;\n",
       "    }\n",
       "\n",
       "    .dataframe tbody tr th {\n",
       "        vertical-align: top;\n",
       "    }\n",
       "\n",
       "    .dataframe thead th {\n",
       "        text-align: right;\n",
       "    }\n",
       "</style>\n",
       "<table border=\"1\" class=\"dataframe\">\n",
       "  <thead>\n",
       "    <tr style=\"text-align: right;\">\n",
       "      <th></th>\n",
       "      <th>Sex</th>\n",
       "      <th>ChestPainType</th>\n",
       "      <th>RestingECG</th>\n",
       "      <th>ExerciseAngina</th>\n",
       "      <th>ST_Slope</th>\n",
       "      <th>Unnamed: 0</th>\n",
       "      <th>Age</th>\n",
       "      <th>RestingBP</th>\n",
       "      <th>Cholesterol</th>\n",
       "      <th>FastingBS</th>\n",
       "      <th>MaxHR</th>\n",
       "      <th>Oldpeak</th>\n",
       "    </tr>\n",
       "    <tr>\n",
       "      <th>id</th>\n",
       "      <th></th>\n",
       "      <th></th>\n",
       "      <th></th>\n",
       "      <th></th>\n",
       "      <th></th>\n",
       "      <th></th>\n",
       "      <th></th>\n",
       "      <th></th>\n",
       "      <th></th>\n",
       "      <th></th>\n",
       "      <th></th>\n",
       "      <th></th>\n",
       "    </tr>\n",
       "  </thead>\n",
       "  <tbody>\n",
       "    <tr>\n",
       "      <th>637</th>\n",
       "      <td>F</td>\n",
       "      <td>ASY</td>\n",
       "      <td>Normal</td>\n",
       "      <td>Y</td>\n",
       "      <td>Flat</td>\n",
       "      <td>637</td>\n",
       "      <td>57</td>\n",
       "      <td>140</td>\n",
       "      <td>241</td>\n",
       "      <td>0</td>\n",
       "      <td>123</td>\n",
       "      <td>0.2</td>\n",
       "    </tr>\n",
       "    <tr>\n",
       "      <th>165</th>\n",
       "      <td>M</td>\n",
       "      <td>ASY</td>\n",
       "      <td>Normal</td>\n",
       "      <td>Y</td>\n",
       "      <td>Flat</td>\n",
       "      <td>165</td>\n",
       "      <td>54</td>\n",
       "      <td>200</td>\n",
       "      <td>198</td>\n",
       "      <td>0</td>\n",
       "      <td>142</td>\n",
       "      <td>2.0</td>\n",
       "    </tr>\n",
       "    <tr>\n",
       "      <th>467</th>\n",
       "      <td>F</td>\n",
       "      <td>NAP</td>\n",
       "      <td>Normal</td>\n",
       "      <td>N</td>\n",
       "      <td>Flat</td>\n",
       "      <td>467</td>\n",
       "      <td>44</td>\n",
       "      <td>118</td>\n",
       "      <td>242</td>\n",
       "      <td>0</td>\n",
       "      <td>149</td>\n",
       "      <td>0.3</td>\n",
       "    </tr>\n",
       "    <tr>\n",
       "      <th>311</th>\n",
       "      <td>M</td>\n",
       "      <td>ASY</td>\n",
       "      <td>ST</td>\n",
       "      <td>Y</td>\n",
       "      <td>Flat</td>\n",
       "      <td>311</td>\n",
       "      <td>64</td>\n",
       "      <td>144</td>\n",
       "      <td>0</td>\n",
       "      <td>0</td>\n",
       "      <td>122</td>\n",
       "      <td>1.0</td>\n",
       "    </tr>\n",
       "    <tr>\n",
       "      <th>432</th>\n",
       "      <td>M</td>\n",
       "      <td>ASY</td>\n",
       "      <td>LVH</td>\n",
       "      <td>Y</td>\n",
       "      <td>Flat</td>\n",
       "      <td>432</td>\n",
       "      <td>67</td>\n",
       "      <td>120</td>\n",
       "      <td>229</td>\n",
       "      <td>0</td>\n",
       "      <td>129</td>\n",
       "      <td>2.6</td>\n",
       "    </tr>\n",
       "    <tr>\n",
       "      <th>...</th>\n",
       "      <td>...</td>\n",
       "      <td>...</td>\n",
       "      <td>...</td>\n",
       "      <td>...</td>\n",
       "      <td>...</td>\n",
       "      <td>...</td>\n",
       "      <td>...</td>\n",
       "      <td>...</td>\n",
       "      <td>...</td>\n",
       "      <td>...</td>\n",
       "      <td>...</td>\n",
       "      <td>...</td>\n",
       "    </tr>\n",
       "    <tr>\n",
       "      <th>422</th>\n",
       "      <td>F</td>\n",
       "      <td>ATA</td>\n",
       "      <td>LVH</td>\n",
       "      <td>Y</td>\n",
       "      <td>Up</td>\n",
       "      <td>422</td>\n",
       "      <td>74</td>\n",
       "      <td>120</td>\n",
       "      <td>269</td>\n",
       "      <td>0</td>\n",
       "      <td>121</td>\n",
       "      <td>0.2</td>\n",
       "    </tr>\n",
       "    <tr>\n",
       "      <th>233</th>\n",
       "      <td>M</td>\n",
       "      <td>ASY</td>\n",
       "      <td>Normal</td>\n",
       "      <td>Y</td>\n",
       "      <td>Down</td>\n",
       "      <td>233</td>\n",
       "      <td>64</td>\n",
       "      <td>110</td>\n",
       "      <td>0</td>\n",
       "      <td>1</td>\n",
       "      <td>114</td>\n",
       "      <td>1.3</td>\n",
       "    </tr>\n",
       "    <tr>\n",
       "      <th>64</th>\n",
       "      <td>F</td>\n",
       "      <td>ATA</td>\n",
       "      <td>Normal</td>\n",
       "      <td>Y</td>\n",
       "      <td>Flat</td>\n",
       "      <td>64</td>\n",
       "      <td>53</td>\n",
       "      <td>140</td>\n",
       "      <td>216</td>\n",
       "      <td>0</td>\n",
       "      <td>142</td>\n",
       "      <td>2.0</td>\n",
       "    </tr>\n",
       "    <tr>\n",
       "      <th>439</th>\n",
       "      <td>F</td>\n",
       "      <td>NAP</td>\n",
       "      <td>LVH</td>\n",
       "      <td>N</td>\n",
       "      <td>Up</td>\n",
       "      <td>439</td>\n",
       "      <td>51</td>\n",
       "      <td>120</td>\n",
       "      <td>295</td>\n",
       "      <td>0</td>\n",
       "      <td>157</td>\n",
       "      <td>0.6</td>\n",
       "    </tr>\n",
       "    <tr>\n",
       "      <th>336</th>\n",
       "      <td>M</td>\n",
       "      <td>ASY</td>\n",
       "      <td>LVH</td>\n",
       "      <td>Y</td>\n",
       "      <td>Down</td>\n",
       "      <td>336</td>\n",
       "      <td>58</td>\n",
       "      <td>120</td>\n",
       "      <td>0</td>\n",
       "      <td>0</td>\n",
       "      <td>106</td>\n",
       "      <td>1.5</td>\n",
       "    </tr>\n",
       "  </tbody>\n",
       "</table>\n",
       "<p>129 rows × 12 columns</p>\n",
       "</div>"
      ],
      "text/plain": [
       "    Sex ChestPainType RestingECG ExerciseAngina ST_Slope  Unnamed: 0  Age  \\\n",
       "id                                                                          \n",
       "637   F           ASY     Normal              Y     Flat         637   57   \n",
       "165   M           ASY     Normal              Y     Flat         165   54   \n",
       "467   F           NAP     Normal              N     Flat         467   44   \n",
       "311   M           ASY         ST              Y     Flat         311   64   \n",
       "432   M           ASY        LVH              Y     Flat         432   67   \n",
       "..   ..           ...        ...            ...      ...         ...  ...   \n",
       "422   F           ATA        LVH              Y       Up         422   74   \n",
       "233   M           ASY     Normal              Y     Down         233   64   \n",
       "64    F           ATA     Normal              Y     Flat          64   53   \n",
       "439   F           NAP        LVH              N       Up         439   51   \n",
       "336   M           ASY        LVH              Y     Down         336   58   \n",
       "\n",
       "     RestingBP  Cholesterol  FastingBS  MaxHR  Oldpeak  \n",
       "id                                                      \n",
       "637        140          241          0    123      0.2  \n",
       "165        200          198          0    142      2.0  \n",
       "467        118          242          0    149      0.3  \n",
       "311        144            0          0    122      1.0  \n",
       "432        120          229          0    129      2.6  \n",
       "..         ...          ...        ...    ...      ...  \n",
       "422        120          269          0    121      0.2  \n",
       "233        110            0          1    114      1.3  \n",
       "64         140          216          0    142      2.0  \n",
       "439        120          295          0    157      0.6  \n",
       "336        120            0          0    106      1.5  \n",
       "\n",
       "[129 rows x 12 columns]"
      ]
     },
     "execution_count": 4,
     "metadata": {},
     "output_type": "execute_result"
    }
   ],
   "source": [
    "# Get ready for one-hot encoding \n",
    "# Get good cardinalirty features and numerical columns\n",
    "good_cardinality_cols = [col for col in X_full if X_full[col].nunique() < 10 and X_full[col].dtype=='object']\n",
    "numerical_cols = [col for col in X_full if X_full[col].dtype=='int64' or X_full[col].dtype=='float64']\n",
    "\n",
    "chosen_cols = good_cardinality_cols + numerical_cols\n",
    "X_full=X_full[chosen_cols].copy()\n",
    "X_test=X_test[chosen_cols].copy()\n",
    "\n",
    "# Split training and validity test\n",
    "X_train, X_valid, y_train, y_valid = train_test_split(X_full, y, test_size=0.2, train_size=0.8, random_state=0)\n",
    "X_valid"
   ]
  },
  {
   "cell_type": "markdown",
   "id": "47424871",
   "metadata": {
    "papermill": {
     "duration": 0.005306,
     "end_time": "2024-06-16T13:54:29.857043",
     "exception": false,
     "start_time": "2024-06-16T13:54:29.851737",
     "status": "completed"
    },
    "tags": []
   },
   "source": [
    "# 4. Build model\n",
    "The model I am going to use is Decision Tree along with OneHotEncoder to encode that type 'object' feature. I packed all of them inside a pipeline for easier implementation"
   ]
  },
  {
   "cell_type": "code",
   "execution_count": 5,
   "id": "01b6f6c5",
   "metadata": {
    "execution": {
     "iopub.execute_input": "2024-06-16T13:54:29.870495Z",
     "iopub.status.busy": "2024-06-16T13:54:29.869731Z",
     "iopub.status.idle": "2024-06-16T13:54:30.191719Z",
     "shell.execute_reply": "2024-06-16T13:54:30.190634Z"
    },
    "papermill": {
     "duration": 0.331417,
     "end_time": "2024-06-16T13:54:30.194254",
     "exception": false,
     "start_time": "2024-06-16T13:54:29.862837",
     "status": "completed"
    },
    "tags": []
   },
   "outputs": [],
   "source": [
    "# Preprocess the data\n",
    "from sklearn.compose import ColumnTransformer\n",
    "from sklearn.pipeline import Pipeline\n",
    "from sklearn.impute import SimpleImputer\n",
    "from sklearn.preprocessing import OneHotEncoder\n",
    "from sklearn.ensemble import RandomForestClassifier\n",
    "from sklearn.metrics import mean_absolute_error\n",
    "\n",
    "\n",
    "numerical_transformer = SimpleImputer(strategy='mean')\n",
    "categorical_transformer = Pipeline(steps=[\n",
    "#     ('imputer1', SimpleImputer(strategy='most_frequent')),\n",
    "    ('encoding', OneHotEncoder(handle_unknown='ignore')),\n",
    "    ('imputer2', SimpleImputer(strategy='median')),\n",
    "])\n",
    "\n",
    "preprocessor = ColumnTransformer(transformers=[\n",
    "    ('cat', categorical_transformer, good_cardinality_cols),\n",
    "    ('num', numerical_transformer, numerical_cols),\n",
    "])"
   ]
  },
  {
   "cell_type": "code",
   "execution_count": 6,
   "id": "b761ac5b",
   "metadata": {
    "execution": {
     "iopub.execute_input": "2024-06-16T13:54:30.207575Z",
     "iopub.status.busy": "2024-06-16T13:54:30.207159Z",
     "iopub.status.idle": "2024-06-16T13:54:30.213467Z",
     "shell.execute_reply": "2024-06-16T13:54:30.212479Z"
    },
    "papermill": {
     "duration": 0.015322,
     "end_time": "2024-06-16T13:54:30.215547",
     "exception": false,
     "start_time": "2024-06-16T13:54:30.200225",
     "status": "completed"
    },
    "tags": []
   },
   "outputs": [],
   "source": [
    "# Cross-validation to find the most optimal parameter for the model\n",
    "from sklearn.model_selection import cross_val_score\n",
    "def get_score(n_esti, max_leafs):\n",
    "    pip = Pipeline(steps=[\n",
    "        ('preprocessor', preprocessor),\n",
    "        ('model', RandomForestClassifier(n_estimators=n_esti, max_leaf_nodes=max_leafs, random_state=0))\n",
    "    ])\n",
    "    scores = -1 * cross_val_score(pip, X_train, y_train, cv=50, scoring='neg_mean_absolute_error', verbose=False)\n",
    "    return scores.mean()"
   ]
  },
  {
   "cell_type": "markdown",
   "id": "03624580",
   "metadata": {
    "papermill": {
     "duration": 0.005295,
     "end_time": "2024-06-16T13:54:30.226518",
     "exception": false,
     "start_time": "2024-06-16T13:54:30.221223",
     "status": "completed"
    },
    "tags": []
   },
   "source": [
    "Brute force to find the most optimal hyperparameter for DecisionTree model"
   ]
  },
  {
   "cell_type": "code",
   "execution_count": 7,
   "id": "e8bebd39",
   "metadata": {
    "_kg_hide-input": false,
    "execution": {
     "iopub.execute_input": "2024-06-16T13:54:30.239795Z",
     "iopub.status.busy": "2024-06-16T13:54:30.238801Z",
     "iopub.status.idle": "2024-06-16T13:54:47.567361Z",
     "shell.execute_reply": "2024-06-16T13:54:47.566334Z"
    },
    "papermill": {
     "duration": 17.337795,
     "end_time": "2024-06-16T13:54:47.569831",
     "exception": false,
     "start_time": "2024-06-16T13:54:30.232036",
     "status": "completed"
    },
    "tags": []
   },
   "outputs": [
    {
     "name": "stdout",
     "output_type": "stream",
     "text": [
      "50 90 0.11563636363636362\n"
     ]
    }
   ],
   "source": [
    "optimal_n_estimators=-1\n",
    "optimal_max_leaf_node=-1\n",
    "optimal_scores=1000000\n",
    "for n_estimators in range(50, 100, 50):\n",
    "    for max_leaf_node in range(10, 100, 40):\n",
    "        temp = get_score(n_estimators, max_leaf_node)\n",
    "        if temp < optimal_scores:\n",
    "            optimal_scores = temp\n",
    "            optimal_n_estimators = n_estimators\n",
    "            optimal_max_leaf_node = max_leaf_node\n",
    "print(optimal_n_estimators, optimal_max_leaf_node, optimal_scores)"
   ]
  },
  {
   "cell_type": "code",
   "execution_count": 8,
   "id": "03698efc",
   "metadata": {
    "execution": {
     "iopub.execute_input": "2024-06-16T13:54:47.584090Z",
     "iopub.status.busy": "2024-06-16T13:54:47.583164Z",
     "iopub.status.idle": "2024-06-16T13:54:47.752210Z",
     "shell.execute_reply": "2024-06-16T13:54:47.751225Z"
    },
    "papermill": {
     "duration": 0.178521,
     "end_time": "2024-06-16T13:54:47.754500",
     "exception": false,
     "start_time": "2024-06-16T13:54:47.575979",
     "status": "completed"
    },
    "tags": []
   },
   "outputs": [
    {
     "data": {
      "text/html": [
       "<style>#sk-container-id-1 {color: black;background-color: white;}#sk-container-id-1 pre{padding: 0;}#sk-container-id-1 div.sk-toggleable {background-color: white;}#sk-container-id-1 label.sk-toggleable__label {cursor: pointer;display: block;width: 100%;margin-bottom: 0;padding: 0.3em;box-sizing: border-box;text-align: center;}#sk-container-id-1 label.sk-toggleable__label-arrow:before {content: \"▸\";float: left;margin-right: 0.25em;color: #696969;}#sk-container-id-1 label.sk-toggleable__label-arrow:hover:before {color: black;}#sk-container-id-1 div.sk-estimator:hover label.sk-toggleable__label-arrow:before {color: black;}#sk-container-id-1 div.sk-toggleable__content {max-height: 0;max-width: 0;overflow: hidden;text-align: left;background-color: #f0f8ff;}#sk-container-id-1 div.sk-toggleable__content pre {margin: 0.2em;color: black;border-radius: 0.25em;background-color: #f0f8ff;}#sk-container-id-1 input.sk-toggleable__control:checked~div.sk-toggleable__content {max-height: 200px;max-width: 100%;overflow: auto;}#sk-container-id-1 input.sk-toggleable__control:checked~label.sk-toggleable__label-arrow:before {content: \"▾\";}#sk-container-id-1 div.sk-estimator input.sk-toggleable__control:checked~label.sk-toggleable__label {background-color: #d4ebff;}#sk-container-id-1 div.sk-label input.sk-toggleable__control:checked~label.sk-toggleable__label {background-color: #d4ebff;}#sk-container-id-1 input.sk-hidden--visually {border: 0;clip: rect(1px 1px 1px 1px);clip: rect(1px, 1px, 1px, 1px);height: 1px;margin: -1px;overflow: hidden;padding: 0;position: absolute;width: 1px;}#sk-container-id-1 div.sk-estimator {font-family: monospace;background-color: #f0f8ff;border: 1px dotted black;border-radius: 0.25em;box-sizing: border-box;margin-bottom: 0.5em;}#sk-container-id-1 div.sk-estimator:hover {background-color: #d4ebff;}#sk-container-id-1 div.sk-parallel-item::after {content: \"\";width: 100%;border-bottom: 1px solid gray;flex-grow: 1;}#sk-container-id-1 div.sk-label:hover label.sk-toggleable__label {background-color: #d4ebff;}#sk-container-id-1 div.sk-serial::before {content: \"\";position: absolute;border-left: 1px solid gray;box-sizing: border-box;top: 0;bottom: 0;left: 50%;z-index: 0;}#sk-container-id-1 div.sk-serial {display: flex;flex-direction: column;align-items: center;background-color: white;padding-right: 0.2em;padding-left: 0.2em;position: relative;}#sk-container-id-1 div.sk-item {position: relative;z-index: 1;}#sk-container-id-1 div.sk-parallel {display: flex;align-items: stretch;justify-content: center;background-color: white;position: relative;}#sk-container-id-1 div.sk-item::before, #sk-container-id-1 div.sk-parallel-item::before {content: \"\";position: absolute;border-left: 1px solid gray;box-sizing: border-box;top: 0;bottom: 0;left: 50%;z-index: -1;}#sk-container-id-1 div.sk-parallel-item {display: flex;flex-direction: column;z-index: 1;position: relative;background-color: white;}#sk-container-id-1 div.sk-parallel-item:first-child::after {align-self: flex-end;width: 50%;}#sk-container-id-1 div.sk-parallel-item:last-child::after {align-self: flex-start;width: 50%;}#sk-container-id-1 div.sk-parallel-item:only-child::after {width: 0;}#sk-container-id-1 div.sk-dashed-wrapped {border: 1px dashed gray;margin: 0 0.4em 0.5em 0.4em;box-sizing: border-box;padding-bottom: 0.4em;background-color: white;}#sk-container-id-1 div.sk-label label {font-family: monospace;font-weight: bold;display: inline-block;line-height: 1.2em;}#sk-container-id-1 div.sk-label-container {text-align: center;}#sk-container-id-1 div.sk-container {/* jupyter's `normalize.less` sets `[hidden] { display: none; }` but bootstrap.min.css set `[hidden] { display: none !important; }` so we also need the `!important` here to be able to override the default hidden behavior on the sphinx rendered scikit-learn.org. See: https://github.com/scikit-learn/scikit-learn/issues/21755 */display: inline-block !important;position: relative;}#sk-container-id-1 div.sk-text-repr-fallback {display: none;}</style><div id=\"sk-container-id-1\" class=\"sk-top-container\"><div class=\"sk-text-repr-fallback\"><pre>Pipeline(steps=[(&#x27;preprocessor&#x27;,\n",
       "                 ColumnTransformer(transformers=[(&#x27;cat&#x27;,\n",
       "                                                  Pipeline(steps=[(&#x27;encoding&#x27;,\n",
       "                                                                   OneHotEncoder(handle_unknown=&#x27;ignore&#x27;)),\n",
       "                                                                  (&#x27;imputer2&#x27;,\n",
       "                                                                   SimpleImputer(strategy=&#x27;median&#x27;))]),\n",
       "                                                  [&#x27;Sex&#x27;, &#x27;ChestPainType&#x27;,\n",
       "                                                   &#x27;RestingECG&#x27;,\n",
       "                                                   &#x27;ExerciseAngina&#x27;,\n",
       "                                                   &#x27;ST_Slope&#x27;]),\n",
       "                                                 (&#x27;num&#x27;, SimpleImputer(),\n",
       "                                                  [&#x27;Unnamed: 0&#x27;, &#x27;Age&#x27;,\n",
       "                                                   &#x27;RestingBP&#x27;, &#x27;Cholesterol&#x27;,\n",
       "                                                   &#x27;FastingBS&#x27;, &#x27;MaxHR&#x27;,\n",
       "                                                   &#x27;Oldpeak&#x27;])])),\n",
       "                (&#x27;model&#x27;,\n",
       "                 RandomForestClassifier(max_leaf_nodes=50, n_estimators=50,\n",
       "                                        random_state=0))])</pre><b>In a Jupyter environment, please rerun this cell to show the HTML representation or trust the notebook. <br />On GitHub, the HTML representation is unable to render, please try loading this page with nbviewer.org.</b></div><div class=\"sk-container\" hidden><div class=\"sk-item sk-dashed-wrapped\"><div class=\"sk-label-container\"><div class=\"sk-label sk-toggleable\"><input class=\"sk-toggleable__control sk-hidden--visually\" id=\"sk-estimator-id-1\" type=\"checkbox\" ><label for=\"sk-estimator-id-1\" class=\"sk-toggleable__label sk-toggleable__label-arrow\">Pipeline</label><div class=\"sk-toggleable__content\"><pre>Pipeline(steps=[(&#x27;preprocessor&#x27;,\n",
       "                 ColumnTransformer(transformers=[(&#x27;cat&#x27;,\n",
       "                                                  Pipeline(steps=[(&#x27;encoding&#x27;,\n",
       "                                                                   OneHotEncoder(handle_unknown=&#x27;ignore&#x27;)),\n",
       "                                                                  (&#x27;imputer2&#x27;,\n",
       "                                                                   SimpleImputer(strategy=&#x27;median&#x27;))]),\n",
       "                                                  [&#x27;Sex&#x27;, &#x27;ChestPainType&#x27;,\n",
       "                                                   &#x27;RestingECG&#x27;,\n",
       "                                                   &#x27;ExerciseAngina&#x27;,\n",
       "                                                   &#x27;ST_Slope&#x27;]),\n",
       "                                                 (&#x27;num&#x27;, SimpleImputer(),\n",
       "                                                  [&#x27;Unnamed: 0&#x27;, &#x27;Age&#x27;,\n",
       "                                                   &#x27;RestingBP&#x27;, &#x27;Cholesterol&#x27;,\n",
       "                                                   &#x27;FastingBS&#x27;, &#x27;MaxHR&#x27;,\n",
       "                                                   &#x27;Oldpeak&#x27;])])),\n",
       "                (&#x27;model&#x27;,\n",
       "                 RandomForestClassifier(max_leaf_nodes=50, n_estimators=50,\n",
       "                                        random_state=0))])</pre></div></div></div><div class=\"sk-serial\"><div class=\"sk-item sk-dashed-wrapped\"><div class=\"sk-label-container\"><div class=\"sk-label sk-toggleable\"><input class=\"sk-toggleable__control sk-hidden--visually\" id=\"sk-estimator-id-2\" type=\"checkbox\" ><label for=\"sk-estimator-id-2\" class=\"sk-toggleable__label sk-toggleable__label-arrow\">preprocessor: ColumnTransformer</label><div class=\"sk-toggleable__content\"><pre>ColumnTransformer(transformers=[(&#x27;cat&#x27;,\n",
       "                                 Pipeline(steps=[(&#x27;encoding&#x27;,\n",
       "                                                  OneHotEncoder(handle_unknown=&#x27;ignore&#x27;)),\n",
       "                                                 (&#x27;imputer2&#x27;,\n",
       "                                                  SimpleImputer(strategy=&#x27;median&#x27;))]),\n",
       "                                 [&#x27;Sex&#x27;, &#x27;ChestPainType&#x27;, &#x27;RestingECG&#x27;,\n",
       "                                  &#x27;ExerciseAngina&#x27;, &#x27;ST_Slope&#x27;]),\n",
       "                                (&#x27;num&#x27;, SimpleImputer(),\n",
       "                                 [&#x27;Unnamed: 0&#x27;, &#x27;Age&#x27;, &#x27;RestingBP&#x27;,\n",
       "                                  &#x27;Cholesterol&#x27;, &#x27;FastingBS&#x27;, &#x27;MaxHR&#x27;,\n",
       "                                  &#x27;Oldpeak&#x27;])])</pre></div></div></div><div class=\"sk-parallel\"><div class=\"sk-parallel-item\"><div class=\"sk-item\"><div class=\"sk-label-container\"><div class=\"sk-label sk-toggleable\"><input class=\"sk-toggleable__control sk-hidden--visually\" id=\"sk-estimator-id-3\" type=\"checkbox\" ><label for=\"sk-estimator-id-3\" class=\"sk-toggleable__label sk-toggleable__label-arrow\">cat</label><div class=\"sk-toggleable__content\"><pre>[&#x27;Sex&#x27;, &#x27;ChestPainType&#x27;, &#x27;RestingECG&#x27;, &#x27;ExerciseAngina&#x27;, &#x27;ST_Slope&#x27;]</pre></div></div></div><div class=\"sk-serial\"><div class=\"sk-item\"><div class=\"sk-serial\"><div class=\"sk-item\"><div class=\"sk-estimator sk-toggleable\"><input class=\"sk-toggleable__control sk-hidden--visually\" id=\"sk-estimator-id-4\" type=\"checkbox\" ><label for=\"sk-estimator-id-4\" class=\"sk-toggleable__label sk-toggleable__label-arrow\">OneHotEncoder</label><div class=\"sk-toggleable__content\"><pre>OneHotEncoder(handle_unknown=&#x27;ignore&#x27;)</pre></div></div></div><div class=\"sk-item\"><div class=\"sk-estimator sk-toggleable\"><input class=\"sk-toggleable__control sk-hidden--visually\" id=\"sk-estimator-id-5\" type=\"checkbox\" ><label for=\"sk-estimator-id-5\" class=\"sk-toggleable__label sk-toggleable__label-arrow\">SimpleImputer</label><div class=\"sk-toggleable__content\"><pre>SimpleImputer(strategy=&#x27;median&#x27;)</pre></div></div></div></div></div></div></div></div><div class=\"sk-parallel-item\"><div class=\"sk-item\"><div class=\"sk-label-container\"><div class=\"sk-label sk-toggleable\"><input class=\"sk-toggleable__control sk-hidden--visually\" id=\"sk-estimator-id-6\" type=\"checkbox\" ><label for=\"sk-estimator-id-6\" class=\"sk-toggleable__label sk-toggleable__label-arrow\">num</label><div class=\"sk-toggleable__content\"><pre>[&#x27;Unnamed: 0&#x27;, &#x27;Age&#x27;, &#x27;RestingBP&#x27;, &#x27;Cholesterol&#x27;, &#x27;FastingBS&#x27;, &#x27;MaxHR&#x27;, &#x27;Oldpeak&#x27;]</pre></div></div></div><div class=\"sk-serial\"><div class=\"sk-item\"><div class=\"sk-estimator sk-toggleable\"><input class=\"sk-toggleable__control sk-hidden--visually\" id=\"sk-estimator-id-7\" type=\"checkbox\" ><label for=\"sk-estimator-id-7\" class=\"sk-toggleable__label sk-toggleable__label-arrow\">SimpleImputer</label><div class=\"sk-toggleable__content\"><pre>SimpleImputer()</pre></div></div></div></div></div></div></div></div><div class=\"sk-item\"><div class=\"sk-estimator sk-toggleable\"><input class=\"sk-toggleable__control sk-hidden--visually\" id=\"sk-estimator-id-8\" type=\"checkbox\" ><label for=\"sk-estimator-id-8\" class=\"sk-toggleable__label sk-toggleable__label-arrow\">RandomForestClassifier</label><div class=\"sk-toggleable__content\"><pre>RandomForestClassifier(max_leaf_nodes=50, n_estimators=50, random_state=0)</pre></div></div></div></div></div></div></div>"
      ],
      "text/plain": [
       "Pipeline(steps=[('preprocessor',\n",
       "                 ColumnTransformer(transformers=[('cat',\n",
       "                                                  Pipeline(steps=[('encoding',\n",
       "                                                                   OneHotEncoder(handle_unknown='ignore')),\n",
       "                                                                  ('imputer2',\n",
       "                                                                   SimpleImputer(strategy='median'))]),\n",
       "                                                  ['Sex', 'ChestPainType',\n",
       "                                                   'RestingECG',\n",
       "                                                   'ExerciseAngina',\n",
       "                                                   'ST_Slope']),\n",
       "                                                 ('num', SimpleImputer(),\n",
       "                                                  ['Unnamed: 0', 'Age',\n",
       "                                                   'RestingBP', 'Cholesterol',\n",
       "                                                   'FastingBS', 'MaxHR',\n",
       "                                                   'Oldpeak'])])),\n",
       "                ('model',\n",
       "                 RandomForestClassifier(max_leaf_nodes=50, n_estimators=50,\n",
       "                                        random_state=0))])"
      ]
     },
     "execution_count": 8,
     "metadata": {},
     "output_type": "execute_result"
    }
   ],
   "source": [
    "# build model\n",
    "pip = Pipeline(steps=[\n",
    "    ('preprocessor', preprocessor),\n",
    "    ('model', RandomForestClassifier(n_estimators=50, max_leaf_nodes=50, random_state=0))\n",
    "])\n",
    "pip.fit(X_train, y_train)"
   ]
  },
  {
   "cell_type": "code",
   "execution_count": 9,
   "id": "60aead49",
   "metadata": {
    "execution": {
     "iopub.execute_input": "2024-06-16T13:54:47.768228Z",
     "iopub.status.busy": "2024-06-16T13:54:47.767856Z",
     "iopub.status.idle": "2024-06-16T13:54:47.772876Z",
     "shell.execute_reply": "2024-06-16T13:54:47.771907Z"
    },
    "papermill": {
     "duration": 0.014506,
     "end_time": "2024-06-16T13:54:47.775162",
     "exception": false,
     "start_time": "2024-06-16T13:54:47.760656",
     "status": "completed"
    },
    "tags": []
   },
   "outputs": [],
   "source": [
    "def output(pred):\n",
    "    output = pd.DataFrame({'id': X_test.index, 'output': pred})\n",
    "    output.to_csv('submission.csv', index=False)"
   ]
  },
  {
   "cell_type": "code",
   "execution_count": 10,
   "id": "b32cfb22",
   "metadata": {
    "execution": {
     "iopub.execute_input": "2024-06-16T13:54:47.789073Z",
     "iopub.status.busy": "2024-06-16T13:54:47.788708Z",
     "iopub.status.idle": "2024-06-16T13:54:47.808500Z",
     "shell.execute_reply": "2024-06-16T13:54:47.807486Z"
    },
    "papermill": {
     "duration": 0.029525,
     "end_time": "2024-06-16T13:54:47.810928",
     "exception": false,
     "start_time": "2024-06-16T13:54:47.781403",
     "status": "completed"
    },
    "tags": []
   },
   "outputs": [],
   "source": [
    "pred = pip.predict(X_test)\n",
    "output(pred)"
   ]
  },
  {
   "cell_type": "markdown",
   "id": "45ade97b",
   "metadata": {
    "papermill": {
     "duration": 0.005866,
     "end_time": "2024-06-16T13:54:47.823225",
     "exception": false,
     "start_time": "2024-06-16T13:54:47.817359",
     "status": "completed"
    },
    "tags": []
   },
   "source": [
    "This model yields the accuracy of **85.06%** on the private data and **85.3%** on the public one. Which shows that this model is not likely to experience overfitting, however, underfitting might be the case."
   ]
  },
  {
   "cell_type": "markdown",
   "id": "bedf2368",
   "metadata": {
    "papermill": {
     "duration": 0.005776,
     "end_time": "2024-06-16T13:54:47.835076",
     "exception": false,
     "start_time": "2024-06-16T13:54:47.829300",
     "status": "completed"
    },
    "tags": []
   },
   "source": [
    "# 5. Improve the model\n",
    "The implementation below utilize XGBoost with some hyperparameter tunning"
   ]
  },
  {
   "cell_type": "code",
   "execution_count": 11,
   "id": "70ceca0c",
   "metadata": {
    "execution": {
     "iopub.execute_input": "2024-06-16T13:54:47.848943Z",
     "iopub.status.busy": "2024-06-16T13:54:47.848215Z",
     "iopub.status.idle": "2024-06-16T13:54:48.213517Z",
     "shell.execute_reply": "2024-06-16T13:54:48.212497Z"
    },
    "papermill": {
     "duration": 0.374963,
     "end_time": "2024-06-16T13:54:48.216020",
     "exception": false,
     "start_time": "2024-06-16T13:54:47.841057",
     "status": "completed"
    },
    "tags": []
   },
   "outputs": [
    {
     "data": {
      "text/html": [
       "<style>#sk-container-id-2 {color: black;background-color: white;}#sk-container-id-2 pre{padding: 0;}#sk-container-id-2 div.sk-toggleable {background-color: white;}#sk-container-id-2 label.sk-toggleable__label {cursor: pointer;display: block;width: 100%;margin-bottom: 0;padding: 0.3em;box-sizing: border-box;text-align: center;}#sk-container-id-2 label.sk-toggleable__label-arrow:before {content: \"▸\";float: left;margin-right: 0.25em;color: #696969;}#sk-container-id-2 label.sk-toggleable__label-arrow:hover:before {color: black;}#sk-container-id-2 div.sk-estimator:hover label.sk-toggleable__label-arrow:before {color: black;}#sk-container-id-2 div.sk-toggleable__content {max-height: 0;max-width: 0;overflow: hidden;text-align: left;background-color: #f0f8ff;}#sk-container-id-2 div.sk-toggleable__content pre {margin: 0.2em;color: black;border-radius: 0.25em;background-color: #f0f8ff;}#sk-container-id-2 input.sk-toggleable__control:checked~div.sk-toggleable__content {max-height: 200px;max-width: 100%;overflow: auto;}#sk-container-id-2 input.sk-toggleable__control:checked~label.sk-toggleable__label-arrow:before {content: \"▾\";}#sk-container-id-2 div.sk-estimator input.sk-toggleable__control:checked~label.sk-toggleable__label {background-color: #d4ebff;}#sk-container-id-2 div.sk-label input.sk-toggleable__control:checked~label.sk-toggleable__label {background-color: #d4ebff;}#sk-container-id-2 input.sk-hidden--visually {border: 0;clip: rect(1px 1px 1px 1px);clip: rect(1px, 1px, 1px, 1px);height: 1px;margin: -1px;overflow: hidden;padding: 0;position: absolute;width: 1px;}#sk-container-id-2 div.sk-estimator {font-family: monospace;background-color: #f0f8ff;border: 1px dotted black;border-radius: 0.25em;box-sizing: border-box;margin-bottom: 0.5em;}#sk-container-id-2 div.sk-estimator:hover {background-color: #d4ebff;}#sk-container-id-2 div.sk-parallel-item::after {content: \"\";width: 100%;border-bottom: 1px solid gray;flex-grow: 1;}#sk-container-id-2 div.sk-label:hover label.sk-toggleable__label {background-color: #d4ebff;}#sk-container-id-2 div.sk-serial::before {content: \"\";position: absolute;border-left: 1px solid gray;box-sizing: border-box;top: 0;bottom: 0;left: 50%;z-index: 0;}#sk-container-id-2 div.sk-serial {display: flex;flex-direction: column;align-items: center;background-color: white;padding-right: 0.2em;padding-left: 0.2em;position: relative;}#sk-container-id-2 div.sk-item {position: relative;z-index: 1;}#sk-container-id-2 div.sk-parallel {display: flex;align-items: stretch;justify-content: center;background-color: white;position: relative;}#sk-container-id-2 div.sk-item::before, #sk-container-id-2 div.sk-parallel-item::before {content: \"\";position: absolute;border-left: 1px solid gray;box-sizing: border-box;top: 0;bottom: 0;left: 50%;z-index: -1;}#sk-container-id-2 div.sk-parallel-item {display: flex;flex-direction: column;z-index: 1;position: relative;background-color: white;}#sk-container-id-2 div.sk-parallel-item:first-child::after {align-self: flex-end;width: 50%;}#sk-container-id-2 div.sk-parallel-item:last-child::after {align-self: flex-start;width: 50%;}#sk-container-id-2 div.sk-parallel-item:only-child::after {width: 0;}#sk-container-id-2 div.sk-dashed-wrapped {border: 1px dashed gray;margin: 0 0.4em 0.5em 0.4em;box-sizing: border-box;padding-bottom: 0.4em;background-color: white;}#sk-container-id-2 div.sk-label label {font-family: monospace;font-weight: bold;display: inline-block;line-height: 1.2em;}#sk-container-id-2 div.sk-label-container {text-align: center;}#sk-container-id-2 div.sk-container {/* jupyter's `normalize.less` sets `[hidden] { display: none; }` but bootstrap.min.css set `[hidden] { display: none !important; }` so we also need the `!important` here to be able to override the default hidden behavior on the sphinx rendered scikit-learn.org. See: https://github.com/scikit-learn/scikit-learn/issues/21755 */display: inline-block !important;position: relative;}#sk-container-id-2 div.sk-text-repr-fallback {display: none;}</style><div id=\"sk-container-id-2\" class=\"sk-top-container\"><div class=\"sk-text-repr-fallback\"><pre>Pipeline(steps=[(&#x27;preprocessor&#x27;,\n",
       "                 ColumnTransformer(transformers=[(&#x27;cat&#x27;,\n",
       "                                                  Pipeline(steps=[(&#x27;encoding&#x27;,\n",
       "                                                                   OneHotEncoder(handle_unknown=&#x27;ignore&#x27;)),\n",
       "                                                                  (&#x27;imputer2&#x27;,\n",
       "                                                                   SimpleImputer(strategy=&#x27;median&#x27;))]),\n",
       "                                                  [&#x27;Sex&#x27;, &#x27;ChestPainType&#x27;,\n",
       "                                                   &#x27;RestingECG&#x27;,\n",
       "                                                   &#x27;ExerciseAngina&#x27;,\n",
       "                                                   &#x27;ST_Slope&#x27;]),\n",
       "                                                 (&#x27;num&#x27;, SimpleImputer(),\n",
       "                                                  [&#x27;Unnamed: 0&#x27;, &#x27;Age&#x27;,\n",
       "                                                   &#x27;RestingBP&#x27;, &#x27;Cholesterol&#x27;,\n",
       "                                                   &#x27;FastingBS&#x27;, &#x27;MaxHR&#x27;,\n",
       "                                                   &#x27;Oldpeak&#x27;...\n",
       "                               feature_types=None, gamma=None, grow_policy=None,\n",
       "                               importance_type=None,\n",
       "                               interaction_constraints=None, learning_rate=0.05,\n",
       "                               max_bin=None, max_cat_threshold=None,\n",
       "                               max_cat_to_onehot=None, max_delta_step=None,\n",
       "                               max_depth=None, max_leaves=None,\n",
       "                               min_child_weight=None, missing=nan,\n",
       "                               monotone_constraints=None, multi_strategy=None,\n",
       "                               n_estimators=500, n_jobs=4,\n",
       "                               num_parallel_tree=None, random_state=None, ...))])</pre><b>In a Jupyter environment, please rerun this cell to show the HTML representation or trust the notebook. <br />On GitHub, the HTML representation is unable to render, please try loading this page with nbviewer.org.</b></div><div class=\"sk-container\" hidden><div class=\"sk-item sk-dashed-wrapped\"><div class=\"sk-label-container\"><div class=\"sk-label sk-toggleable\"><input class=\"sk-toggleable__control sk-hidden--visually\" id=\"sk-estimator-id-9\" type=\"checkbox\" ><label for=\"sk-estimator-id-9\" class=\"sk-toggleable__label sk-toggleable__label-arrow\">Pipeline</label><div class=\"sk-toggleable__content\"><pre>Pipeline(steps=[(&#x27;preprocessor&#x27;,\n",
       "                 ColumnTransformer(transformers=[(&#x27;cat&#x27;,\n",
       "                                                  Pipeline(steps=[(&#x27;encoding&#x27;,\n",
       "                                                                   OneHotEncoder(handle_unknown=&#x27;ignore&#x27;)),\n",
       "                                                                  (&#x27;imputer2&#x27;,\n",
       "                                                                   SimpleImputer(strategy=&#x27;median&#x27;))]),\n",
       "                                                  [&#x27;Sex&#x27;, &#x27;ChestPainType&#x27;,\n",
       "                                                   &#x27;RestingECG&#x27;,\n",
       "                                                   &#x27;ExerciseAngina&#x27;,\n",
       "                                                   &#x27;ST_Slope&#x27;]),\n",
       "                                                 (&#x27;num&#x27;, SimpleImputer(),\n",
       "                                                  [&#x27;Unnamed: 0&#x27;, &#x27;Age&#x27;,\n",
       "                                                   &#x27;RestingBP&#x27;, &#x27;Cholesterol&#x27;,\n",
       "                                                   &#x27;FastingBS&#x27;, &#x27;MaxHR&#x27;,\n",
       "                                                   &#x27;Oldpeak&#x27;...\n",
       "                               feature_types=None, gamma=None, grow_policy=None,\n",
       "                               importance_type=None,\n",
       "                               interaction_constraints=None, learning_rate=0.05,\n",
       "                               max_bin=None, max_cat_threshold=None,\n",
       "                               max_cat_to_onehot=None, max_delta_step=None,\n",
       "                               max_depth=None, max_leaves=None,\n",
       "                               min_child_weight=None, missing=nan,\n",
       "                               monotone_constraints=None, multi_strategy=None,\n",
       "                               n_estimators=500, n_jobs=4,\n",
       "                               num_parallel_tree=None, random_state=None, ...))])</pre></div></div></div><div class=\"sk-serial\"><div class=\"sk-item sk-dashed-wrapped\"><div class=\"sk-label-container\"><div class=\"sk-label sk-toggleable\"><input class=\"sk-toggleable__control sk-hidden--visually\" id=\"sk-estimator-id-10\" type=\"checkbox\" ><label for=\"sk-estimator-id-10\" class=\"sk-toggleable__label sk-toggleable__label-arrow\">preprocessor: ColumnTransformer</label><div class=\"sk-toggleable__content\"><pre>ColumnTransformer(transformers=[(&#x27;cat&#x27;,\n",
       "                                 Pipeline(steps=[(&#x27;encoding&#x27;,\n",
       "                                                  OneHotEncoder(handle_unknown=&#x27;ignore&#x27;)),\n",
       "                                                 (&#x27;imputer2&#x27;,\n",
       "                                                  SimpleImputer(strategy=&#x27;median&#x27;))]),\n",
       "                                 [&#x27;Sex&#x27;, &#x27;ChestPainType&#x27;, &#x27;RestingECG&#x27;,\n",
       "                                  &#x27;ExerciseAngina&#x27;, &#x27;ST_Slope&#x27;]),\n",
       "                                (&#x27;num&#x27;, SimpleImputer(),\n",
       "                                 [&#x27;Unnamed: 0&#x27;, &#x27;Age&#x27;, &#x27;RestingBP&#x27;,\n",
       "                                  &#x27;Cholesterol&#x27;, &#x27;FastingBS&#x27;, &#x27;MaxHR&#x27;,\n",
       "                                  &#x27;Oldpeak&#x27;])])</pre></div></div></div><div class=\"sk-parallel\"><div class=\"sk-parallel-item\"><div class=\"sk-item\"><div class=\"sk-label-container\"><div class=\"sk-label sk-toggleable\"><input class=\"sk-toggleable__control sk-hidden--visually\" id=\"sk-estimator-id-11\" type=\"checkbox\" ><label for=\"sk-estimator-id-11\" class=\"sk-toggleable__label sk-toggleable__label-arrow\">cat</label><div class=\"sk-toggleable__content\"><pre>[&#x27;Sex&#x27;, &#x27;ChestPainType&#x27;, &#x27;RestingECG&#x27;, &#x27;ExerciseAngina&#x27;, &#x27;ST_Slope&#x27;]</pre></div></div></div><div class=\"sk-serial\"><div class=\"sk-item\"><div class=\"sk-serial\"><div class=\"sk-item\"><div class=\"sk-estimator sk-toggleable\"><input class=\"sk-toggleable__control sk-hidden--visually\" id=\"sk-estimator-id-12\" type=\"checkbox\" ><label for=\"sk-estimator-id-12\" class=\"sk-toggleable__label sk-toggleable__label-arrow\">OneHotEncoder</label><div class=\"sk-toggleable__content\"><pre>OneHotEncoder(handle_unknown=&#x27;ignore&#x27;)</pre></div></div></div><div class=\"sk-item\"><div class=\"sk-estimator sk-toggleable\"><input class=\"sk-toggleable__control sk-hidden--visually\" id=\"sk-estimator-id-13\" type=\"checkbox\" ><label for=\"sk-estimator-id-13\" class=\"sk-toggleable__label sk-toggleable__label-arrow\">SimpleImputer</label><div class=\"sk-toggleable__content\"><pre>SimpleImputer(strategy=&#x27;median&#x27;)</pre></div></div></div></div></div></div></div></div><div class=\"sk-parallel-item\"><div class=\"sk-item\"><div class=\"sk-label-container\"><div class=\"sk-label sk-toggleable\"><input class=\"sk-toggleable__control sk-hidden--visually\" id=\"sk-estimator-id-14\" type=\"checkbox\" ><label for=\"sk-estimator-id-14\" class=\"sk-toggleable__label sk-toggleable__label-arrow\">num</label><div class=\"sk-toggleable__content\"><pre>[&#x27;Unnamed: 0&#x27;, &#x27;Age&#x27;, &#x27;RestingBP&#x27;, &#x27;Cholesterol&#x27;, &#x27;FastingBS&#x27;, &#x27;MaxHR&#x27;, &#x27;Oldpeak&#x27;]</pre></div></div></div><div class=\"sk-serial\"><div class=\"sk-item\"><div class=\"sk-estimator sk-toggleable\"><input class=\"sk-toggleable__control sk-hidden--visually\" id=\"sk-estimator-id-15\" type=\"checkbox\" ><label for=\"sk-estimator-id-15\" class=\"sk-toggleable__label sk-toggleable__label-arrow\">SimpleImputer</label><div class=\"sk-toggleable__content\"><pre>SimpleImputer()</pre></div></div></div></div></div></div></div></div><div class=\"sk-item\"><div class=\"sk-estimator sk-toggleable\"><input class=\"sk-toggleable__control sk-hidden--visually\" id=\"sk-estimator-id-16\" type=\"checkbox\" ><label for=\"sk-estimator-id-16\" class=\"sk-toggleable__label sk-toggleable__label-arrow\">XGBClassifier</label><div class=\"sk-toggleable__content\"><pre>XGBClassifier(base_score=None, booster=None, callbacks=None,\n",
       "              colsample_bylevel=None, colsample_bynode=None,\n",
       "              colsample_bytree=None, device=None, early_stopping_rounds=5,\n",
       "              enable_categorical=False, eval_metric=None, feature_types=None,\n",
       "              gamma=None, grow_policy=None, importance_type=None,\n",
       "              interaction_constraints=None, learning_rate=0.05, max_bin=None,\n",
       "              max_cat_threshold=None, max_cat_to_onehot=None,\n",
       "              max_delta_step=None, max_depth=None, max_leaves=None,\n",
       "              min_child_weight=None, missing=nan, monotone_constraints=None,\n",
       "              multi_strategy=None, n_estimators=500, n_jobs=4,\n",
       "              num_parallel_tree=None, random_state=None, ...)</pre></div></div></div></div></div></div></div>"
      ],
      "text/plain": [
       "Pipeline(steps=[('preprocessor',\n",
       "                 ColumnTransformer(transformers=[('cat',\n",
       "                                                  Pipeline(steps=[('encoding',\n",
       "                                                                   OneHotEncoder(handle_unknown='ignore')),\n",
       "                                                                  ('imputer2',\n",
       "                                                                   SimpleImputer(strategy='median'))]),\n",
       "                                                  ['Sex', 'ChestPainType',\n",
       "                                                   'RestingECG',\n",
       "                                                   'ExerciseAngina',\n",
       "                                                   'ST_Slope']),\n",
       "                                                 ('num', SimpleImputer(),\n",
       "                                                  ['Unnamed: 0', 'Age',\n",
       "                                                   'RestingBP', 'Cholesterol',\n",
       "                                                   'FastingBS', 'MaxHR',\n",
       "                                                   'Oldpeak'...\n",
       "                               feature_types=None, gamma=None, grow_policy=None,\n",
       "                               importance_type=None,\n",
       "                               interaction_constraints=None, learning_rate=0.05,\n",
       "                               max_bin=None, max_cat_threshold=None,\n",
       "                               max_cat_to_onehot=None, max_delta_step=None,\n",
       "                               max_depth=None, max_leaves=None,\n",
       "                               min_child_weight=None, missing=nan,\n",
       "                               monotone_constraints=None, multi_strategy=None,\n",
       "                               n_estimators=500, n_jobs=4,\n",
       "                               num_parallel_tree=None, random_state=None, ...))])"
      ]
     },
     "execution_count": 11,
     "metadata": {},
     "output_type": "execute_result"
    }
   ],
   "source": [
    "# Improve by using XGBoost\n",
    "from xgboost import XGBClassifier\n",
    "pip = Pipeline(steps=[\n",
    "    ('preprocessor', preprocessor),\n",
    "    ('model', XGBClassifier(n_estimators=500, learning_rate=0.05, n_jobs=4,  early_stopping_rounds=5))\n",
    "])\n",
    "fit_params = {\n",
    "    'model__eval_set': [(pip.named_steps['preprocessor'].transform(X_valid), y_valid)],\n",
    "    'model__verbose': False,\n",
    "}\n",
    "pip.fit(X_train, y_train, **fit_params)"
   ]
  },
  {
   "cell_type": "code",
   "execution_count": 12,
   "id": "79ea1e35",
   "metadata": {
    "execution": {
     "iopub.execute_input": "2024-06-16T13:54:48.231773Z",
     "iopub.status.busy": "2024-06-16T13:54:48.231055Z",
     "iopub.status.idle": "2024-06-16T13:54:48.247516Z",
     "shell.execute_reply": "2024-06-16T13:54:48.246627Z"
    },
    "papermill": {
     "duration": 0.026696,
     "end_time": "2024-06-16T13:54:48.249942",
     "exception": false,
     "start_time": "2024-06-16T13:54:48.223246",
     "status": "completed"
    },
    "tags": []
   },
   "outputs": [],
   "source": [
    "pred = pip.predict(X_test)\n",
    "output(pred)"
   ]
  },
  {
   "cell_type": "markdown",
   "id": "31f512de",
   "metadata": {
    "papermill": {
     "duration": 0.006247,
     "end_time": "2024-06-16T13:54:48.262873",
     "exception": false,
     "start_time": "2024-06-16T13:54:48.256626",
     "status": "completed"
    },
    "tags": []
   },
   "source": [
    "This model trends to perform slightly better than the previous one with RandomForestClassifier with **85.8%** accuracy on the private data and **83.8%** on the public one."
   ]
  },
  {
   "cell_type": "markdown",
   "id": "22f5acc3",
   "metadata": {
    "papermill": {
     "duration": 0.006312,
     "end_time": "2024-06-16T13:54:48.275703",
     "exception": false,
     "start_time": "2024-06-16T13:54:48.269391",
     "status": "completed"
    },
    "tags": []
   },
   "source": []
  }
 ],
 "metadata": {
  "kaggle": {
   "accelerator": "none",
   "dataSources": [
    {
     "datasetId": 5181873,
     "sourceId": 8650949,
     "sourceType": "datasetVersion"
    }
   ],
   "dockerImageVersionId": 30732,
   "isGpuEnabled": false,
   "isInternetEnabled": true,
   "language": "python",
   "sourceType": "notebook"
  },
  "kernelspec": {
   "display_name": "Python 3",
   "language": "python",
   "name": "python3"
  },
  "language_info": {
   "codemirror_mode": {
    "name": "ipython",
    "version": 3
   },
   "file_extension": ".py",
   "mimetype": "text/x-python",
   "name": "python",
   "nbconvert_exporter": "python",
   "pygments_lexer": "ipython3",
   "version": "3.10.13"
  },
  "papermill": {
   "default_parameters": {},
   "duration": 23.731549,
   "end_time": "2024-06-16T13:54:48.902316",
   "environment_variables": {},
   "exception": null,
   "input_path": "__notebook__.ipynb",
   "output_path": "__notebook__.ipynb",
   "parameters": {},
   "start_time": "2024-06-16T13:54:25.170767",
   "version": "2.5.0"
  }
 },
 "nbformat": 4,
 "nbformat_minor": 5
}
